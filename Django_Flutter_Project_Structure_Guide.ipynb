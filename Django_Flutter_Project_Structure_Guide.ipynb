{
 "cells": [
  {
   "cell_type": "markdown",
   "id": "fed665a0",
   "metadata": {},
   "source": [
    "\n",
    "# Project Structure Guide\n",
    "\n",
    "This notebook serves as a guide to the code structure of our Git repository, which includes a Django project (backend) and a Flutter app (frontend). \n",
    "This documentation is intended to help developers understand the layout of the project and where to find resources for development and debugging.\n",
    "\n",
    "## Contents\n",
    "1. Project Structure Overview\n",
    "2. Django Project directory --> orbitview\n",
    "3. Flutter Project directory --> orbitview_frontend\n",
    "4. Official documents\n",
    "5. Best Practices"
   ]
  },
  {
   "cell_type": "markdown",
   "id": "219194c3",
   "metadata": {},
   "source": [
    "\n",
    "## 1. Project Structure Overview\n",
    "\n",
    "Below is the general structure of the Git repository containing both the Django and Flutter projects:\n",
    "\n",
    "```\n",
    "/project-root\n",
    "│\n",
    "├── orbitview/\n",
    "│   ├── manage.py\n",
    "│   ├── django_app/\n",
    "│   │   ├── __init__.py\n",
    "│   │   ├── settings.py\n",
    "│   │   ├── urls.py\n",
    "│   │   ├── views.py\n",
    "│   │   └── ...\n",
    "│   ├── templates/\n",
    "│   ├── static/\n",
    "│   └── ...\n",
    "│\n",
    "└── orbitview_frontend/\n",
    "    ├── android/\n",
    "    ├── ios/\n",
    "    ├── lib/\n",
    "    │   ├── main.dart\n",
    "    │   ├── screens/\n",
    "    │   ├── widgets/\n",
    "    │   └── ...\n",
    "    ├── assets/\n",
    "    └── pubspec.yaml\n",
    "```\n",
    "\n",
    "This structure is divided into two main directories: `django_project/` for the Django backend and `flutter_app/` for the Flutter frontend.\n"
   ]
  },
  {
   "cell_type": "markdown",
   "id": "4d86a884",
   "metadata": {},
   "source": [
    "\n",
    "## 2. Django Project (orbitview) Structure\n",
    "\n",
    "The `django_project/` directory contains the backend code for the application. Key directories and files include:\n",
    "\n",
    "- `manage.py`: Command-line utility for interacting with the Django project.\n",
    "- `django_app/`: Contains the core components of the Django project.\n",
    "  - `__init__.py`: Indicates that this directory should be treated as a Python package.\n",
    "  - `settings.py`: Configuration settings for the Django project.\n",
    "  - `urls.py`: URL routing configuration.\n",
    "  - `views.py`: Contains the view functions that handle requests and return responses.\n",
    "  - Additional submodules like `models.py`, `forms.py`, etc., depending on the application needs.\n",
    "- `templates/`: Directory for HTML templates. (used for server-side rendering only)\n",
    "- `static/`: Contains static files such as CSS, JavaScript, and images. (used for server-side rendering only)\n",
    "\n",
    "### Finding Resources\n",
    "- **Models**: Typically located in `django_app/models.py`.\n",
    "- **Views**: Defined in `django_app/views.py`.\n",
    "- **Templates**: HTML files can be found in the `templates/` directory.\n",
    "- **Static Files**: Located in the `static/` directory.\n"
   ]
  },
  {
   "cell_type": "markdown",
   "id": "8050bb80",
   "metadata": {},
   "source": [
    "\n",
    "## 3. Flutter Project (orbitview_frontend) Structure\n",
    "\n",
    "The `flutter_app/` directory contains the Flutter frontend. Key directories and files include:\n",
    "\n",
    "- `android/`, `ios/`: Platform-specific files for Android and iOS.\n",
    "- `lib/`: Main code directory for the Flutter app.\n",
    "  - `main.dart`: The entry point for the Flutter application.\n",
    "  - `screens/`: Contains different screen layouts.\n",
    "  - `widgets/`: Contains reusable UI components.\n",
    "- `assets/`: Contains images, fonts, and other assets used in the app.\n",
    "- `pubspec.yaml`: Configuration file for the Flutter project, specifying dependencies and assets.\n",
    "\n",
    "### Finding Resources\n",
    "- **UI Components**: Located in the `lib/screens/` and `lib/widgets/` directories.\n",
    "- **Assets**: Defined in `assets/` and referenced in `pubspec.yaml`.\n"
   ]
  },
  {
   "cell_type": "markdown",
   "id": "f6195f1a",
   "metadata": {},
   "source": [
    "## 4. Common Tasks"
   ]
  },
  {
   "cell_type": "markdown",
   "id": "ad2252de",
   "metadata": {},
   "source": [
    "\n",
    "### Running the Django Server\n",
    "1. Navigate to the `orbitview/` directory.\n",
    "2. Run the following command to start the development server:\n",
    "   ```bash\n",
    "   python manage.py runserver\n",
    "   ```"
   ]
  },
  {
   "cell_type": "code",
   "execution_count": null,
   "id": "e45392bb",
   "metadata": {
    "vscode": {
     "languageId": "powershell"
    }
   },
   "outputs": [],
   "source": [
    "python manage.py runserver"
   ]
  },
  {
   "cell_type": "markdown",
   "id": "a308c84e",
   "metadata": {},
   "source": [
    "This should run on port 8000 for consistency, but if it doesn't make sure to enter:"
   ]
  },
  {
   "cell_type": "code",
   "execution_count": null,
   "id": "150395c5",
   "metadata": {
    "vscode": {
     "languageId": "powershell"
    }
   },
   "outputs": [],
   "source": [
    "python manage.py runserver 8000"
   ]
  },
  {
   "cell_type": "markdown",
   "id": "0ade9c51",
   "metadata": {},
   "source": [
    "### Running the Flutter App\n",
    "1. Navigate to the `flutter_app/` directory.\n",
    "2. Use the following command to run the app on an emulator or connected device:\n",
    "   ```bash\n",
    "   flutter run\n",
    "   ```\n"
   ]
  },
  {
   "cell_type": "code",
   "execution_count": null,
   "id": "efea2675",
   "metadata": {
    "vscode": {
     "languageId": "powershell"
    }
   },
   "outputs": [],
   "source": [
    "flutter run"
   ]
  },
  {
   "cell_type": "markdown",
   "id": "22b817dc",
   "metadata": {
    "vscode": {
     "languageId": "powershell"
    }
   },
   "source": [
    "### Adding a New Feature\n",
    "\n",
    "We <strong>strongly recommend </strong>our developers to build and experiment with new features. Therefore, consider branching off from the main branch to build your own feature. Afterwards, speaking to us and we discuss about a branch merge."
   ]
  },
  {
   "cell_type": "markdown",
   "id": "12a7fdc1",
   "metadata": {},
   "source": [
    "### Django + Backend:\n",
    "- Django Testing: https://docs.djangoproject.com/en/5.1/topics/testing/\n",
    "- Django Deployment Checklists: https://docs.djangoproject.com/en/5.1/howto/deployment/checklist/\n",
    "- Django Security Guidelines: https://docs.djangoproject.com/en/5.1/topics/security/\n",
    "- Django Model Reference: https://docs.djangoproject.com/en/5.1/howto/deployment/checklist/\n",
    "- Django Admin Interface: https://docs.djangoproject.com/en/5.1/ref/contrib/admin/\n",
    "- Django Internationalization: https://docs.djangoproject.com/en/5.1/topics/i18n/\n",
    "- Celery for Django (Task Queues): https://docs.celeryq.dev/en/stable/\n",
    "- Channels (for WebSockets and Asynchronous Support): https://channels.readthedocs.io/en/stable/\n",
    "- Django REST Framework Tutorial + API Guide: https://www.django-rest-framework.org/\n",
    "- Django Crispy Forms (for better form rendering): https://django-crispy-forms.readthedocs.io/en/latest/\n",
    "- Django Debug Toolbar (Debugging Tool): https://django-debug-toolbar.readthedocs.io/en/latest/\n",
    "- Allauth (Django authentication): https://django-allauth.readthedocs.io/en/stable/\n",
    "- Djoser (Django authentication): https://djoser.readthedocs.io/en/latest/getting_started.html\n",
    "- Django Environ (Environment Variables): https://django-environ.readthedocs.io/en/stable/\n",
    "- Docker: https://docs.docker.com/\n",
    "\n",
    "### Flutter + Frontend:\n",
    "- Flutter Packages and Plugins: https://pub.dev/\n",
    "- Flutter and Firebase Integration: https://firebase.google.com/docs/flutter/setup | https://docs.flutter.dev/data-and-backend/firebase\n",
    "- Flutter State Management: https://docs.flutter.dev/data-and-backend/state-mgmt/simple\n",
    "- Flutter Navigation and Routing: https://docs.flutter.dev/ui/navigation\n",
    "- Flutter Layouts and Widgets: https://docs.flutter.dev/ui/widgets/layout | https://docs.flutter.dev/ui/layout\n",
    "- Flutter Testing and Debugging:https://docs.flutter.dev/testing\n",
    "- Flutter Internationalization: https://docs.flutter.dev/ui/accessibility-and-internationalization/internationalization\n",
    "- Flutter Animations and Motion: https://docs.flutter.dev/ui/accessibility-and-internationalization/internationalization\n",
    "- Flutter Plugin Development: https://docs.flutter.dev/packages-and-plugins/developing-packages\n",
    "- Flutter Integration with Backend Services: https://docs.flutter.dev/data-and-backend\n",
    "- Flutter Web: https://flutter.dev/multi-platform/web\n",
    "- Flutter Desktop: https://flutter.dev/multi-platform/desktop\n",
    "- Flutter DevTools (Debugging Tool): https://docs.flutter.dev/tools/devtools\n"
   ]
  },
  {
   "cell_type": "markdown",
   "id": "86779345",
   "metadata": {},
   "source": [
    "\n",
    "## 5. Best Practices\n",
    "\n",
    "- **Code Organization**: Keep related files together (e.g., models, views, templates) to maintain clarity and organization.\n",
    "- **Consistent Naming**: Use clear and consistent naming conventions for files and directories.\n",
    "- **Documentation**: Document key components and features within the codebase to assist future developers.\n",
    "- **Version Control**: Commit changes frequently with clear commit messages to facilitate collaboration. Try to commit frequently to minimize the chances of conflicts.\n",
    "- **Testing**: Write tests for both Django and Flutter components to ensure functionality and stability.\n"
   ]
  }
 ],
 "metadata": {
  "language_info": {
   "name": "python"
  }
 },
 "nbformat": 4,
 "nbformat_minor": 5
}
